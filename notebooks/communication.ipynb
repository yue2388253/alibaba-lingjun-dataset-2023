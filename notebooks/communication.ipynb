{
 "cells": [
  {
   "cell_type": "code",
   "id": "initial_id",
   "metadata": {
    "collapsed": true,
    "ExecuteTime": {
     "end_time": "2024-08-09T09:11:24.978881Z",
     "start_time": "2024-08-09T09:11:24.916893Z"
    }
   },
   "source": [
    "import pandas as pd\n",
    "import matplotlib\n",
    "import matplotlib.pyplot as plt\n",
    "\n",
    "font = {\n",
    "    \"family\": \"Times New Roman\",\n",
    "    'size': 18\n",
    "}\n",
    "\n",
    "matplotlib.rc('font', **font)\n",
    "\n",
    "df = pd.read_csv('../data/worker.csv')\n",
    "df.head()"
   ],
   "outputs": [
    {
     "data": {
      "text/plain": [
       "      id          job_name                worker_name replica_type  \\\n",
       "0  28613  dlcar6cqs8mecvlz  dlcar6cqs8mecvlz-master-0       master   \n",
       "1  28614  dlcar6cqs8mecvlz  dlcar6cqs8mecvlz-worker-0       worker   \n",
       "2  28615  dlcar6cqs8mecvlz  dlcar6cqs8mecvlz-worker-1       worker   \n",
       "3  28616  dlcar6cqs8mecvlz  dlcar6cqs8mecvlz-worker-2       worker   \n",
       "4  28617  dlcar6cqs8mecvlz  dlcar6cqs8mecvlz-worker-3       worker   \n",
       "\n",
       "                                                            host_ip  \\\n",
       "0  8bd29cd3a6c570901c5ce23aa0a5557266068fc370e1e4188f056b2fdae24944   \n",
       "1  46547b40034dea27dff7a94dee665d3804b7869286d00dcf3508b9a98b4d9bd3   \n",
       "2  47b54b963095fc8211922de281e8a1306783c9809d8ca634a44a9004ccc788b9   \n",
       "3  7acd990b9db2ffb8b982727c3463746e7c25e0f215c28f82f0f55a49ed0ab793   \n",
       "4  2d1f3f74639b00279140135610e4d4cce920754951735fbdba524f6b1b94a5d5   \n",
       "\n",
       "       gmt_created gmt_pod_running gmt_pod_finished  \\\n",
       "0  2023/7/15 00:47             NaN  2023/7/15 00:49   \n",
       "1  2023/7/15 00:47             NaN  2023/7/15 00:49   \n",
       "2  2023/7/15 00:47             NaN  2023/7/15 00:49   \n",
       "3  2023/7/15 00:47             NaN  2023/7/15 00:49   \n",
       "4  2023/7/15 00:47             NaN  2023/7/15 00:49   \n",
       "\n",
       "                                                                                                                   RES  \n",
       "0  {\"cpu\": \"96\", \"memory\": \"1600Gi\", \"nvidia.com/gpu\": \"8\", \"ephemeral-storage\": \"4800Gi\", \"koordinator.sh/rdma\": \"1\"}  \n",
       "1  {\"cpu\": \"96\", \"memory\": \"1600Gi\", \"nvidia.com/gpu\": \"8\", \"ephemeral-storage\": \"4800Gi\", \"koordinator.sh/rdma\": \"1\"}  \n",
       "2  {\"cpu\": \"96\", \"memory\": \"1600Gi\", \"nvidia.com/gpu\": \"8\", \"ephemeral-storage\": \"4800Gi\", \"koordinator.sh/rdma\": \"1\"}  \n",
       "3  {\"cpu\": \"96\", \"memory\": \"1600Gi\", \"nvidia.com/gpu\": \"8\", \"ephemeral-storage\": \"4800Gi\", \"koordinator.sh/rdma\": \"1\"}  \n",
       "4  {\"cpu\": \"96\", \"memory\": \"1600Gi\", \"nvidia.com/gpu\": \"8\", \"ephemeral-storage\": \"4800Gi\", \"koordinator.sh/rdma\": \"1\"}  "
      ],
      "text/html": [
       "<div>\n",
       "<style scoped>\n",
       "    .dataframe tbody tr th:only-of-type {\n",
       "        vertical-align: middle;\n",
       "    }\n",
       "\n",
       "    .dataframe tbody tr th {\n",
       "        vertical-align: top;\n",
       "    }\n",
       "\n",
       "    .dataframe thead th {\n",
       "        text-align: right;\n",
       "    }\n",
       "</style>\n",
       "<table border=\"1\" class=\"dataframe\">\n",
       "  <thead>\n",
       "    <tr style=\"text-align: right;\">\n",
       "      <th></th>\n",
       "      <th>id</th>\n",
       "      <th>job_name</th>\n",
       "      <th>worker_name</th>\n",
       "      <th>replica_type</th>\n",
       "      <th>host_ip</th>\n",
       "      <th>gmt_created</th>\n",
       "      <th>gmt_pod_running</th>\n",
       "      <th>gmt_pod_finished</th>\n",
       "      <th>RES</th>\n",
       "    </tr>\n",
       "  </thead>\n",
       "  <tbody>\n",
       "    <tr>\n",
       "      <th>0</th>\n",
       "      <td>28613</td>\n",
       "      <td>dlcar6cqs8mecvlz</td>\n",
       "      <td>dlcar6cqs8mecvlz-master-0</td>\n",
       "      <td>master</td>\n",
       "      <td>8bd29cd3a6c570901c5ce23aa0a5557266068fc370e1e4188f056b2fdae24944</td>\n",
       "      <td>2023/7/15 00:47</td>\n",
       "      <td>NaN</td>\n",
       "      <td>2023/7/15 00:49</td>\n",
       "      <td>{\"cpu\": \"96\", \"memory\": \"1600Gi\", \"nvidia.com/gpu\": \"8\", \"ephemeral-storage\": \"4800Gi\", \"koordinator.sh/rdma\": \"1\"}</td>\n",
       "    </tr>\n",
       "    <tr>\n",
       "      <th>1</th>\n",
       "      <td>28614</td>\n",
       "      <td>dlcar6cqs8mecvlz</td>\n",
       "      <td>dlcar6cqs8mecvlz-worker-0</td>\n",
       "      <td>worker</td>\n",
       "      <td>46547b40034dea27dff7a94dee665d3804b7869286d00dcf3508b9a98b4d9bd3</td>\n",
       "      <td>2023/7/15 00:47</td>\n",
       "      <td>NaN</td>\n",
       "      <td>2023/7/15 00:49</td>\n",
       "      <td>{\"cpu\": \"96\", \"memory\": \"1600Gi\", \"nvidia.com/gpu\": \"8\", \"ephemeral-storage\": \"4800Gi\", \"koordinator.sh/rdma\": \"1\"}</td>\n",
       "    </tr>\n",
       "    <tr>\n",
       "      <th>2</th>\n",
       "      <td>28615</td>\n",
       "      <td>dlcar6cqs8mecvlz</td>\n",
       "      <td>dlcar6cqs8mecvlz-worker-1</td>\n",
       "      <td>worker</td>\n",
       "      <td>47b54b963095fc8211922de281e8a1306783c9809d8ca634a44a9004ccc788b9</td>\n",
       "      <td>2023/7/15 00:47</td>\n",
       "      <td>NaN</td>\n",
       "      <td>2023/7/15 00:49</td>\n",
       "      <td>{\"cpu\": \"96\", \"memory\": \"1600Gi\", \"nvidia.com/gpu\": \"8\", \"ephemeral-storage\": \"4800Gi\", \"koordinator.sh/rdma\": \"1\"}</td>\n",
       "    </tr>\n",
       "    <tr>\n",
       "      <th>3</th>\n",
       "      <td>28616</td>\n",
       "      <td>dlcar6cqs8mecvlz</td>\n",
       "      <td>dlcar6cqs8mecvlz-worker-2</td>\n",
       "      <td>worker</td>\n",
       "      <td>7acd990b9db2ffb8b982727c3463746e7c25e0f215c28f82f0f55a49ed0ab793</td>\n",
       "      <td>2023/7/15 00:47</td>\n",
       "      <td>NaN</td>\n",
       "      <td>2023/7/15 00:49</td>\n",
       "      <td>{\"cpu\": \"96\", \"memory\": \"1600Gi\", \"nvidia.com/gpu\": \"8\", \"ephemeral-storage\": \"4800Gi\", \"koordinator.sh/rdma\": \"1\"}</td>\n",
       "    </tr>\n",
       "    <tr>\n",
       "      <th>4</th>\n",
       "      <td>28617</td>\n",
       "      <td>dlcar6cqs8mecvlz</td>\n",
       "      <td>dlcar6cqs8mecvlz-worker-3</td>\n",
       "      <td>worker</td>\n",
       "      <td>2d1f3f74639b00279140135610e4d4cce920754951735fbdba524f6b1b94a5d5</td>\n",
       "      <td>2023/7/15 00:47</td>\n",
       "      <td>NaN</td>\n",
       "      <td>2023/7/15 00:49</td>\n",
       "      <td>{\"cpu\": \"96\", \"memory\": \"1600Gi\", \"nvidia.com/gpu\": \"8\", \"ephemeral-storage\": \"4800Gi\", \"koordinator.sh/rdma\": \"1\"}</td>\n",
       "    </tr>\n",
       "  </tbody>\n",
       "</table>\n",
       "</div>"
      ]
     },
     "execution_count": 9,
     "metadata": {},
     "output_type": "execute_result"
    }
   ],
   "execution_count": 9
  },
  {
   "metadata": {
    "ExecuteTime": {
     "end_time": "2024-08-09T09:11:24.987550Z",
     "start_time": "2024-08-09T09:11:24.980031Z"
    }
   },
   "cell_type": "code",
   "source": [
    "from util.parse_worker import df_worker_valid, df_worker_GPU, df_worker_jobs\n",
    "\n",
    "df_worker_jobs"
   ],
   "id": "6be7c2557528e481",
   "outputs": [
    {
     "data": {
      "text/plain": [
       "              job_name  start_time   end_time  num_gpus  duration\n",
       "0     dlcar6cqs8mecvlz    0.032639   0.034028      48.0  0.001389\n",
       "1     dlc1l3ajnoq4jyuw    0.034722   0.044444      48.0  0.009722\n",
       "2     dlcqbbpj8g3txdux    0.093056   0.095139      48.0  0.002083\n",
       "3     dlc1bei96sdtujoa    0.096528   0.098611      48.0  0.002083\n",
       "4     dlc1v3pfd0c8wgui    0.097222   0.099306      16.0  0.002083\n",
       "...                ...         ...        ...       ...       ...\n",
       "2778  dlc12dbwg4oy1322   15.604167  15.737500       8.0  0.133333\n",
       "2779  dlc3z73t0uiiii2u   15.638194  16.091667      56.0  0.453472\n",
       "2780  dlcxy69z8xv3kgua   15.654861  20.259028      32.0  4.604167\n",
       "2781  dlc14pos90tl1xgs   15.943056  15.951389      48.0  0.008333\n",
       "2782  dlc1g3ccn8neahh9   15.952083  16.813889      48.0  0.861806\n",
       "\n",
       "[2783 rows x 5 columns]"
      ],
      "text/html": [
       "<div>\n",
       "<style scoped>\n",
       "    .dataframe tbody tr th:only-of-type {\n",
       "        vertical-align: middle;\n",
       "    }\n",
       "\n",
       "    .dataframe tbody tr th {\n",
       "        vertical-align: top;\n",
       "    }\n",
       "\n",
       "    .dataframe thead th {\n",
       "        text-align: right;\n",
       "    }\n",
       "</style>\n",
       "<table border=\"1\" class=\"dataframe\">\n",
       "  <thead>\n",
       "    <tr style=\"text-align: right;\">\n",
       "      <th></th>\n",
       "      <th>job_name</th>\n",
       "      <th>start_time</th>\n",
       "      <th>end_time</th>\n",
       "      <th>num_gpus</th>\n",
       "      <th>duration</th>\n",
       "    </tr>\n",
       "  </thead>\n",
       "  <tbody>\n",
       "    <tr>\n",
       "      <th>0</th>\n",
       "      <td>dlcar6cqs8mecvlz</td>\n",
       "      <td>0.032639</td>\n",
       "      <td>0.034028</td>\n",
       "      <td>48.0</td>\n",
       "      <td>0.001389</td>\n",
       "    </tr>\n",
       "    <tr>\n",
       "      <th>1</th>\n",
       "      <td>dlc1l3ajnoq4jyuw</td>\n",
       "      <td>0.034722</td>\n",
       "      <td>0.044444</td>\n",
       "      <td>48.0</td>\n",
       "      <td>0.009722</td>\n",
       "    </tr>\n",
       "    <tr>\n",
       "      <th>2</th>\n",
       "      <td>dlcqbbpj8g3txdux</td>\n",
       "      <td>0.093056</td>\n",
       "      <td>0.095139</td>\n",
       "      <td>48.0</td>\n",
       "      <td>0.002083</td>\n",
       "    </tr>\n",
       "    <tr>\n",
       "      <th>3</th>\n",
       "      <td>dlc1bei96sdtujoa</td>\n",
       "      <td>0.096528</td>\n",
       "      <td>0.098611</td>\n",
       "      <td>48.0</td>\n",
       "      <td>0.002083</td>\n",
       "    </tr>\n",
       "    <tr>\n",
       "      <th>4</th>\n",
       "      <td>dlc1v3pfd0c8wgui</td>\n",
       "      <td>0.097222</td>\n",
       "      <td>0.099306</td>\n",
       "      <td>16.0</td>\n",
       "      <td>0.002083</td>\n",
       "    </tr>\n",
       "    <tr>\n",
       "      <th>...</th>\n",
       "      <td>...</td>\n",
       "      <td>...</td>\n",
       "      <td>...</td>\n",
       "      <td>...</td>\n",
       "      <td>...</td>\n",
       "    </tr>\n",
       "    <tr>\n",
       "      <th>2778</th>\n",
       "      <td>dlc12dbwg4oy1322</td>\n",
       "      <td>15.604167</td>\n",
       "      <td>15.737500</td>\n",
       "      <td>8.0</td>\n",
       "      <td>0.133333</td>\n",
       "    </tr>\n",
       "    <tr>\n",
       "      <th>2779</th>\n",
       "      <td>dlc3z73t0uiiii2u</td>\n",
       "      <td>15.638194</td>\n",
       "      <td>16.091667</td>\n",
       "      <td>56.0</td>\n",
       "      <td>0.453472</td>\n",
       "    </tr>\n",
       "    <tr>\n",
       "      <th>2780</th>\n",
       "      <td>dlcxy69z8xv3kgua</td>\n",
       "      <td>15.654861</td>\n",
       "      <td>20.259028</td>\n",
       "      <td>32.0</td>\n",
       "      <td>4.604167</td>\n",
       "    </tr>\n",
       "    <tr>\n",
       "      <th>2781</th>\n",
       "      <td>dlc14pos90tl1xgs</td>\n",
       "      <td>15.943056</td>\n",
       "      <td>15.951389</td>\n",
       "      <td>48.0</td>\n",
       "      <td>0.008333</td>\n",
       "    </tr>\n",
       "    <tr>\n",
       "      <th>2782</th>\n",
       "      <td>dlc1g3ccn8neahh9</td>\n",
       "      <td>15.952083</td>\n",
       "      <td>16.813889</td>\n",
       "      <td>48.0</td>\n",
       "      <td>0.861806</td>\n",
       "    </tr>\n",
       "  </tbody>\n",
       "</table>\n",
       "<p>2783 rows × 5 columns</p>\n",
       "</div>"
      ]
     },
     "execution_count": 10,
     "metadata": {},
     "output_type": "execute_result"
    }
   ],
   "execution_count": 10
  },
  {
   "metadata": {
    "ExecuteTime": {
     "end_time": "2024-08-09T09:11:25.090015Z",
     "start_time": "2024-08-09T09:11:25.041696Z"
    }
   },
   "cell_type": "code",
   "source": [
    "df = pd.read_csv(\"../data/topo.csv\")\n",
    "edges = set()\n",
    "for _, row in df.iterrows():\n",
    "    edges.add((row['ip'], row['ASW']))\n",
    "    edges.add((row['ASW'], row['PSW']))\n",
    "    edges.add((row['PSW'], row['DSW']))\n",
    "import networkx as nx\n",
    "graph = nx.from_edgelist(list(edges))\n"
   ],
   "id": "542ad386a103278b",
   "outputs": [],
   "execution_count": 11
  },
  {
   "metadata": {
    "ExecuteTime": {
     "end_time": "2024-08-09T09:11:25.098170Z",
     "start_time": "2024-08-09T09:11:25.092416Z"
    }
   },
   "cell_type": "code",
   "source": "nx.adjacency_matrix(graph)",
   "id": "9a241e94503a4c61",
   "outputs": [
    {
     "data": {
      "text/plain": [
       "<Compressed Sparse Row sparse array of dtype 'int64'\n",
       "\twith 1938 stored elements and shape (899, 899)>"
      ]
     },
     "execution_count": 12,
     "metadata": {},
     "output_type": "execute_result"
    }
   ],
   "execution_count": 12
  },
  {
   "metadata": {
    "ExecuteTime": {
     "end_time": "2024-08-09T09:11:25.143952Z",
     "start_time": "2024-08-09T09:11:25.098947Z"
    }
   },
   "cell_type": "code",
   "source": [
    "ip_index_dict = {k: i for i, k in enumerate(df['ip'])}\n",
    "rack_index = {k: i for i, k in enumerate(df['ASW'].unique())}\n",
    "import numpy as np\n",
    "ip_to_rack_matrix = np.zeros((len(ip_index_dict), len(rack_index)), dtype=bool)\n",
    "\n",
    "for _, row in df.iterrows():\n",
    "    ip = ip_index_dict[row['ip']]\n",
    "    rack = rack_index[row['ASW']]\n",
    "    ip_to_rack_matrix[ip, rack] = 1\n",
    "    \n",
    "ip_to_rack_matrix\n"
   ],
   "id": "182316586f8682cc",
   "outputs": [
    {
     "data": {
      "text/plain": [
       "array([[ True, False, False, ..., False, False, False],\n",
       "       [False,  True, False, ..., False, False, False],\n",
       "       [False, False,  True, ..., False, False, False],\n",
       "       ...,\n",
       "       [False, False, False, ..., False, False, False],\n",
       "       [False, False, False, ..., False, False, False],\n",
       "       [False, False, False, ..., False, False, False]])"
      ]
     },
     "execution_count": 13,
     "metadata": {},
     "output_type": "execute_result"
    }
   ],
   "execution_count": 13
  },
  {
   "metadata": {
    "ExecuteTime": {
     "end_time": "2024-08-09T09:11:25.148855Z",
     "start_time": "2024-08-09T09:11:25.145164Z"
    }
   },
   "cell_type": "code",
   "source": [
    "def get_job_tm(job_name):\n",
    "    list_host_ip = df_worker_GPU[df_worker_GPU['job_name'] == job_name]['host_ip']\n",
    "    num_hosts = len(list_host_ip)\n",
    "\n",
    "    # assume all-to-all traffic matrix\n",
    "    tm_host_level = np.ones((num_hosts, num_hosts), dtype=int) - np.diag([1] * num_hosts)\n",
    "    \n",
    "    ip_index = [ip_index_dict[i] for i in list_host_ip]\n",
    "    transform_matrix = ip_to_rack_matrix[ip_index]\n",
    "    tm_rack_level = transform_matrix.T @ tm_host_level @ transform_matrix\n",
    "    \n",
    "    # ignore intra-rack traffic\n",
    "    np.fill_diagonal(tm_rack_level, 0)\n",
    "    rack_usage = np.any(tm_rack_level, axis=0)\n",
    "    \n",
    "    return rack_usage\n"
   ],
   "id": "af8690d48b90268f",
   "outputs": [],
   "execution_count": 14
  },
  {
   "metadata": {
    "ExecuteTime": {
     "end_time": "2024-08-09T09:11:25.239612Z",
     "start_time": "2024-08-09T09:11:25.235563Z"
    }
   },
   "cell_type": "code",
   "source": [
    "from collections import OrderedDict\n",
    "\n",
    "def count_jobs_at_each_moment():\n",
    "    events = []\n",
    "\n",
    "    for _, row in df_worker_jobs.iterrows():\n",
    "        events.append((row['start_time'], 'start', row['job_name']))\n",
    "        events.append((row['end_time'], 'end', row['job_name']))\n",
    "\n",
    "    # Sort events by time, processing end before start at the same time\n",
    "    events.sort(key=lambda x: (x[0], x[1] == 'start'))\n",
    "\n",
    "    # Counting jobs over time\n",
    "    active_jobs = set() \n",
    "    results = OrderedDict()\n",
    "    for time, t, job_name in events:\n",
    "        if t == 'start':\n",
    "            active_jobs.add(job_name)\n",
    "        else:\n",
    "            assert job_name in active_jobs, \n",
    "            active_jobs.remove(job_name)\n",
    "        results[time] = active_jobs.copy()\n",
    "    \n",
    "    return results\n",
    "\n",
    "active_jobs = count_jobs_at_each_moment()\n",
    "first_key = next(iter(active_jobs))\n",
    "first_value = active_jobs[first_key]\n",
    "print(first_key, first_value)"
   ],
   "id": "64fd4705030c6030",
   "outputs": [
    {
     "ename": "SyntaxError",
     "evalue": "invalid syntax (2549378434.py, line 20)",
     "output_type": "error",
     "traceback": [
      "\u001B[0;36m  Cell \u001B[0;32mIn[15], line 20\u001B[0;36m\u001B[0m\n\u001B[0;31m    assert job_name in active_jobs,\u001B[0m\n\u001B[0m                                    ^\u001B[0m\n\u001B[0;31mSyntaxError\u001B[0m\u001B[0;31m:\u001B[0m invalid syntax\n"
     ]
    }
   ],
   "execution_count": 15
  },
  {
   "metadata": {
    "ExecuteTime": {
     "end_time": "2024-08-09T09:11:25.355452Z",
     "start_time": "2024-08-09T09:11:25.353767Z"
    }
   },
   "cell_type": "code",
   "source": "",
   "id": "6800fe3d17eeb1e7",
   "outputs": [],
   "execution_count": 15
  }
 ],
 "metadata": {
  "kernelspec": {
   "display_name": "Python 3",
   "language": "python",
   "name": "python3"
  },
  "language_info": {
   "codemirror_mode": {
    "name": "ipython",
    "version": 2
   },
   "file_extension": ".py",
   "mimetype": "text/x-python",
   "name": "python",
   "nbconvert_exporter": "python",
   "pygments_lexer": "ipython2",
   "version": "2.7.6"
  }
 },
 "nbformat": 4,
 "nbformat_minor": 5
}
