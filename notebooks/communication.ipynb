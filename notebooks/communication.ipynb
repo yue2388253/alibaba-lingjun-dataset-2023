{
 "cells": [
  {
   "cell_type": "code",
   "id": "initial_id",
   "metadata": {
    "collapsed": true,
    "ExecuteTime": {
     "end_time": "2024-08-10T04:09:00.873228Z",
     "start_time": "2024-08-10T04:09:00.773585Z"
    }
   },
   "source": [
    "import pandas as pd\n",
    "import matplotlib\n",
    "import matplotlib.pyplot as plt\n",
    "\n",
    "font = {\n",
    "    \"family\": \"Times New Roman\",\n",
    "    'size': 18\n",
    "}\n",
    "\n",
    "matplotlib.rc('font', **font)\n",
    "\n",
    "df = pd.read_csv('../data/worker.csv')\n",
    "df.head()"
   ],
   "outputs": [
    {
     "data": {
      "text/plain": [
       "      id          job_name                worker_name replica_type  \\\n",
       "0  28613  dlcar6cqs8mecvlz  dlcar6cqs8mecvlz-master-0       master   \n",
       "1  28614  dlcar6cqs8mecvlz  dlcar6cqs8mecvlz-worker-0       worker   \n",
       "2  28615  dlcar6cqs8mecvlz  dlcar6cqs8mecvlz-worker-1       worker   \n",
       "3  28616  dlcar6cqs8mecvlz  dlcar6cqs8mecvlz-worker-2       worker   \n",
       "4  28617  dlcar6cqs8mecvlz  dlcar6cqs8mecvlz-worker-3       worker   \n",
       "\n",
       "                                                            host_ip  \\\n",
       "0  8bd29cd3a6c570901c5ce23aa0a5557266068fc370e1e4188f056b2fdae24944   \n",
       "1  46547b40034dea27dff7a94dee665d3804b7869286d00dcf3508b9a98b4d9bd3   \n",
       "2  47b54b963095fc8211922de281e8a1306783c9809d8ca634a44a9004ccc788b9   \n",
       "3  7acd990b9db2ffb8b982727c3463746e7c25e0f215c28f82f0f55a49ed0ab793   \n",
       "4  2d1f3f74639b00279140135610e4d4cce920754951735fbdba524f6b1b94a5d5   \n",
       "\n",
       "       gmt_created gmt_pod_running gmt_pod_finished  \\\n",
       "0  2023/7/15 00:47             NaN  2023/7/15 00:49   \n",
       "1  2023/7/15 00:47             NaN  2023/7/15 00:49   \n",
       "2  2023/7/15 00:47             NaN  2023/7/15 00:49   \n",
       "3  2023/7/15 00:47             NaN  2023/7/15 00:49   \n",
       "4  2023/7/15 00:47             NaN  2023/7/15 00:49   \n",
       "\n",
       "                                                                                                                   RES  \n",
       "0  {\"cpu\": \"96\", \"memory\": \"1600Gi\", \"nvidia.com/gpu\": \"8\", \"ephemeral-storage\": \"4800Gi\", \"koordinator.sh/rdma\": \"1\"}  \n",
       "1  {\"cpu\": \"96\", \"memory\": \"1600Gi\", \"nvidia.com/gpu\": \"8\", \"ephemeral-storage\": \"4800Gi\", \"koordinator.sh/rdma\": \"1\"}  \n",
       "2  {\"cpu\": \"96\", \"memory\": \"1600Gi\", \"nvidia.com/gpu\": \"8\", \"ephemeral-storage\": \"4800Gi\", \"koordinator.sh/rdma\": \"1\"}  \n",
       "3  {\"cpu\": \"96\", \"memory\": \"1600Gi\", \"nvidia.com/gpu\": \"8\", \"ephemeral-storage\": \"4800Gi\", \"koordinator.sh/rdma\": \"1\"}  \n",
       "4  {\"cpu\": \"96\", \"memory\": \"1600Gi\", \"nvidia.com/gpu\": \"8\", \"ephemeral-storage\": \"4800Gi\", \"koordinator.sh/rdma\": \"1\"}  "
      ],
      "text/html": [
       "<div>\n",
       "<style scoped>\n",
       "    .dataframe tbody tr th:only-of-type {\n",
       "        vertical-align: middle;\n",
       "    }\n",
       "\n",
       "    .dataframe tbody tr th {\n",
       "        vertical-align: top;\n",
       "    }\n",
       "\n",
       "    .dataframe thead th {\n",
       "        text-align: right;\n",
       "    }\n",
       "</style>\n",
       "<table border=\"1\" class=\"dataframe\">\n",
       "  <thead>\n",
       "    <tr style=\"text-align: right;\">\n",
       "      <th></th>\n",
       "      <th>id</th>\n",
       "      <th>job_name</th>\n",
       "      <th>worker_name</th>\n",
       "      <th>replica_type</th>\n",
       "      <th>host_ip</th>\n",
       "      <th>gmt_created</th>\n",
       "      <th>gmt_pod_running</th>\n",
       "      <th>gmt_pod_finished</th>\n",
       "      <th>RES</th>\n",
       "    </tr>\n",
       "  </thead>\n",
       "  <tbody>\n",
       "    <tr>\n",
       "      <th>0</th>\n",
       "      <td>28613</td>\n",
       "      <td>dlcar6cqs8mecvlz</td>\n",
       "      <td>dlcar6cqs8mecvlz-master-0</td>\n",
       "      <td>master</td>\n",
       "      <td>8bd29cd3a6c570901c5ce23aa0a5557266068fc370e1e4188f056b2fdae24944</td>\n",
       "      <td>2023/7/15 00:47</td>\n",
       "      <td>NaN</td>\n",
       "      <td>2023/7/15 00:49</td>\n",
       "      <td>{\"cpu\": \"96\", \"memory\": \"1600Gi\", \"nvidia.com/gpu\": \"8\", \"ephemeral-storage\": \"4800Gi\", \"koordinator.sh/rdma\": \"1\"}</td>\n",
       "    </tr>\n",
       "    <tr>\n",
       "      <th>1</th>\n",
       "      <td>28614</td>\n",
       "      <td>dlcar6cqs8mecvlz</td>\n",
       "      <td>dlcar6cqs8mecvlz-worker-0</td>\n",
       "      <td>worker</td>\n",
       "      <td>46547b40034dea27dff7a94dee665d3804b7869286d00dcf3508b9a98b4d9bd3</td>\n",
       "      <td>2023/7/15 00:47</td>\n",
       "      <td>NaN</td>\n",
       "      <td>2023/7/15 00:49</td>\n",
       "      <td>{\"cpu\": \"96\", \"memory\": \"1600Gi\", \"nvidia.com/gpu\": \"8\", \"ephemeral-storage\": \"4800Gi\", \"koordinator.sh/rdma\": \"1\"}</td>\n",
       "    </tr>\n",
       "    <tr>\n",
       "      <th>2</th>\n",
       "      <td>28615</td>\n",
       "      <td>dlcar6cqs8mecvlz</td>\n",
       "      <td>dlcar6cqs8mecvlz-worker-1</td>\n",
       "      <td>worker</td>\n",
       "      <td>47b54b963095fc8211922de281e8a1306783c9809d8ca634a44a9004ccc788b9</td>\n",
       "      <td>2023/7/15 00:47</td>\n",
       "      <td>NaN</td>\n",
       "      <td>2023/7/15 00:49</td>\n",
       "      <td>{\"cpu\": \"96\", \"memory\": \"1600Gi\", \"nvidia.com/gpu\": \"8\", \"ephemeral-storage\": \"4800Gi\", \"koordinator.sh/rdma\": \"1\"}</td>\n",
       "    </tr>\n",
       "    <tr>\n",
       "      <th>3</th>\n",
       "      <td>28616</td>\n",
       "      <td>dlcar6cqs8mecvlz</td>\n",
       "      <td>dlcar6cqs8mecvlz-worker-2</td>\n",
       "      <td>worker</td>\n",
       "      <td>7acd990b9db2ffb8b982727c3463746e7c25e0f215c28f82f0f55a49ed0ab793</td>\n",
       "      <td>2023/7/15 00:47</td>\n",
       "      <td>NaN</td>\n",
       "      <td>2023/7/15 00:49</td>\n",
       "      <td>{\"cpu\": \"96\", \"memory\": \"1600Gi\", \"nvidia.com/gpu\": \"8\", \"ephemeral-storage\": \"4800Gi\", \"koordinator.sh/rdma\": \"1\"}</td>\n",
       "    </tr>\n",
       "    <tr>\n",
       "      <th>4</th>\n",
       "      <td>28617</td>\n",
       "      <td>dlcar6cqs8mecvlz</td>\n",
       "      <td>dlcar6cqs8mecvlz-worker-3</td>\n",
       "      <td>worker</td>\n",
       "      <td>2d1f3f74639b00279140135610e4d4cce920754951735fbdba524f6b1b94a5d5</td>\n",
       "      <td>2023/7/15 00:47</td>\n",
       "      <td>NaN</td>\n",
       "      <td>2023/7/15 00:49</td>\n",
       "      <td>{\"cpu\": \"96\", \"memory\": \"1600Gi\", \"nvidia.com/gpu\": \"8\", \"ephemeral-storage\": \"4800Gi\", \"koordinator.sh/rdma\": \"1\"}</td>\n",
       "    </tr>\n",
       "  </tbody>\n",
       "</table>\n",
       "</div>"
      ]
     },
     "execution_count": 38,
     "metadata": {},
     "output_type": "execute_result"
    }
   ],
   "execution_count": 38
  },
  {
   "metadata": {
    "ExecuteTime": {
     "end_time": "2024-08-10T04:09:00.893348Z",
     "start_time": "2024-08-10T04:09:00.873228Z"
    }
   },
   "cell_type": "code",
   "source": [
    "from util.parse_worker import df_worker_valid, df_worker_GPU, df_worker_jobs\n",
    "\n",
    "df_worker_jobs"
   ],
   "id": "6be7c2557528e481",
   "outputs": [
    {
     "data": {
      "text/plain": [
       "              job_name  start_time   end_time  num_gpus  duration\n",
       "0     dlcar6cqs8mecvlz    0.032639   0.034028      48.0  0.001389\n",
       "1     dlc1l3ajnoq4jyuw    0.034722   0.044444      48.0  0.009722\n",
       "2     dlcqbbpj8g3txdux    0.093056   0.095139      48.0  0.002083\n",
       "3     dlc1bei96sdtujoa    0.096528   0.098611      48.0  0.002083\n",
       "4     dlc1v3pfd0c8wgui    0.097222   0.099306      16.0  0.002083\n",
       "...                ...         ...        ...       ...       ...\n",
       "2708  dlc12dbwg4oy1322   15.604167  15.737500       8.0  0.133333\n",
       "2709  dlc3z73t0uiiii2u   15.638194  16.091667      56.0  0.453472\n",
       "2710  dlcxy69z8xv3kgua   15.654861  20.259028      32.0  4.604167\n",
       "2711  dlc14pos90tl1xgs   15.943056  15.951389      48.0  0.008333\n",
       "2712  dlc1g3ccn8neahh9   15.952083  16.813889      48.0  0.861806\n",
       "\n",
       "[2713 rows x 5 columns]"
      ],
      "text/html": [
       "<div>\n",
       "<style scoped>\n",
       "    .dataframe tbody tr th:only-of-type {\n",
       "        vertical-align: middle;\n",
       "    }\n",
       "\n",
       "    .dataframe tbody tr th {\n",
       "        vertical-align: top;\n",
       "    }\n",
       "\n",
       "    .dataframe thead th {\n",
       "        text-align: right;\n",
       "    }\n",
       "</style>\n",
       "<table border=\"1\" class=\"dataframe\">\n",
       "  <thead>\n",
       "    <tr style=\"text-align: right;\">\n",
       "      <th></th>\n",
       "      <th>job_name</th>\n",
       "      <th>start_time</th>\n",
       "      <th>end_time</th>\n",
       "      <th>num_gpus</th>\n",
       "      <th>duration</th>\n",
       "    </tr>\n",
       "  </thead>\n",
       "  <tbody>\n",
       "    <tr>\n",
       "      <th>0</th>\n",
       "      <td>dlcar6cqs8mecvlz</td>\n",
       "      <td>0.032639</td>\n",
       "      <td>0.034028</td>\n",
       "      <td>48.0</td>\n",
       "      <td>0.001389</td>\n",
       "    </tr>\n",
       "    <tr>\n",
       "      <th>1</th>\n",
       "      <td>dlc1l3ajnoq4jyuw</td>\n",
       "      <td>0.034722</td>\n",
       "      <td>0.044444</td>\n",
       "      <td>48.0</td>\n",
       "      <td>0.009722</td>\n",
       "    </tr>\n",
       "    <tr>\n",
       "      <th>2</th>\n",
       "      <td>dlcqbbpj8g3txdux</td>\n",
       "      <td>0.093056</td>\n",
       "      <td>0.095139</td>\n",
       "      <td>48.0</td>\n",
       "      <td>0.002083</td>\n",
       "    </tr>\n",
       "    <tr>\n",
       "      <th>3</th>\n",
       "      <td>dlc1bei96sdtujoa</td>\n",
       "      <td>0.096528</td>\n",
       "      <td>0.098611</td>\n",
       "      <td>48.0</td>\n",
       "      <td>0.002083</td>\n",
       "    </tr>\n",
       "    <tr>\n",
       "      <th>4</th>\n",
       "      <td>dlc1v3pfd0c8wgui</td>\n",
       "      <td>0.097222</td>\n",
       "      <td>0.099306</td>\n",
       "      <td>16.0</td>\n",
       "      <td>0.002083</td>\n",
       "    </tr>\n",
       "    <tr>\n",
       "      <th>...</th>\n",
       "      <td>...</td>\n",
       "      <td>...</td>\n",
       "      <td>...</td>\n",
       "      <td>...</td>\n",
       "      <td>...</td>\n",
       "    </tr>\n",
       "    <tr>\n",
       "      <th>2708</th>\n",
       "      <td>dlc12dbwg4oy1322</td>\n",
       "      <td>15.604167</td>\n",
       "      <td>15.737500</td>\n",
       "      <td>8.0</td>\n",
       "      <td>0.133333</td>\n",
       "    </tr>\n",
       "    <tr>\n",
       "      <th>2709</th>\n",
       "      <td>dlc3z73t0uiiii2u</td>\n",
       "      <td>15.638194</td>\n",
       "      <td>16.091667</td>\n",
       "      <td>56.0</td>\n",
       "      <td>0.453472</td>\n",
       "    </tr>\n",
       "    <tr>\n",
       "      <th>2710</th>\n",
       "      <td>dlcxy69z8xv3kgua</td>\n",
       "      <td>15.654861</td>\n",
       "      <td>20.259028</td>\n",
       "      <td>32.0</td>\n",
       "      <td>4.604167</td>\n",
       "    </tr>\n",
       "    <tr>\n",
       "      <th>2711</th>\n",
       "      <td>dlc14pos90tl1xgs</td>\n",
       "      <td>15.943056</td>\n",
       "      <td>15.951389</td>\n",
       "      <td>48.0</td>\n",
       "      <td>0.008333</td>\n",
       "    </tr>\n",
       "    <tr>\n",
       "      <th>2712</th>\n",
       "      <td>dlc1g3ccn8neahh9</td>\n",
       "      <td>15.952083</td>\n",
       "      <td>16.813889</td>\n",
       "      <td>48.0</td>\n",
       "      <td>0.861806</td>\n",
       "    </tr>\n",
       "  </tbody>\n",
       "</table>\n",
       "<p>2713 rows × 5 columns</p>\n",
       "</div>"
      ]
     },
     "execution_count": 39,
     "metadata": {},
     "output_type": "execute_result"
    }
   ],
   "execution_count": 39
  },
  {
   "metadata": {
    "ExecuteTime": {
     "end_time": "2024-08-10T04:09:00.992141Z",
     "start_time": "2024-08-10T04:09:00.893348Z"
    }
   },
   "cell_type": "code",
   "source": [
    "df = pd.read_csv(\"../data/topo.csv\")\n",
    "edges = set()\n",
    "for _, row in df.iterrows():\n",
    "    edges.add((row['ip'], row['ASW']))\n",
    "    edges.add((row['ASW'], row['PSW']))\n",
    "    edges.add((row['PSW'], row['DSW']))\n",
    "import networkx as nx\n",
    "graph = nx.from_edgelist(list(edges))\n"
   ],
   "id": "542ad386a103278b",
   "outputs": [],
   "execution_count": 40
  },
  {
   "metadata": {
    "ExecuteTime": {
     "end_time": "2024-08-10T04:09:01.058256Z",
     "start_time": "2024-08-10T04:09:00.994142Z"
    }
   },
   "cell_type": "code",
   "source": [
    "ip_index_dict = {k: i for i, k in enumerate(df['ip'])}\n",
    "rack_index = {k: i for i, k in enumerate(df['ASW'].unique())}\n",
    "import numpy as np\n",
    "ip_to_rack_matrix = np.zeros((len(ip_index_dict), len(rack_index)), dtype=bool)\n",
    "\n",
    "for _, row in df.iterrows():\n",
    "    ip = ip_index_dict[row['ip']]\n",
    "    rack = rack_index[row['ASW']]\n",
    "    ip_to_rack_matrix[ip, rack] = 1\n",
    "    \n",
    "ip_to_rack_matrix\n"
   ],
   "id": "182316586f8682cc",
   "outputs": [
    {
     "data": {
      "text/plain": [
       "array([[ True, False, False, ..., False, False, False],\n",
       "       [False,  True, False, ..., False, False, False],\n",
       "       [False, False,  True, ..., False, False, False],\n",
       "       ...,\n",
       "       [False, False, False, ..., False, False, False],\n",
       "       [False, False, False, ..., False, False, False],\n",
       "       [False, False, False, ..., False, False, False]])"
      ]
     },
     "execution_count": 41,
     "metadata": {},
     "output_type": "execute_result"
    }
   ],
   "execution_count": 41
  },
  {
   "metadata": {
    "ExecuteTime": {
     "end_time": "2024-08-10T04:09:01.072953Z",
     "start_time": "2024-08-10T04:09:01.059961Z"
    }
   },
   "cell_type": "code",
   "source": [
    "def get_job_tm(job_name):\n",
    "    list_host_ip = df_worker_GPU[df_worker_GPU['job_name'] == job_name]['host_ip']\n",
    "    num_hosts = len(list_host_ip)\n",
    "\n",
    "    # assume all-to-all traffic matrix\n",
    "    tm_host_level = np.ones((num_hosts, num_hosts), dtype=int) - np.diag([1] * num_hosts)\n",
    "    \n",
    "    ip_index = [ip_index_dict[i] for i in list_host_ip]\n",
    "    transform_matrix = ip_to_rack_matrix[ip_index]\n",
    "    tm_rack_level = transform_matrix.T @ tm_host_level @ transform_matrix\n",
    "    \n",
    "    # ignore intra-rack traffic\n",
    "    np.fill_diagonal(tm_rack_level, 0)\n",
    "    rack_usage = np.any(tm_rack_level, axis=0)\n",
    "    \n",
    "    return rack_usage\n"
   ],
   "id": "af8690d48b90268f",
   "outputs": [],
   "execution_count": 42
  },
  {
   "metadata": {
    "ExecuteTime": {
     "end_time": "2024-08-10T04:16:11.044979Z",
     "start_time": "2024-08-10T04:14:11.840445Z"
    }
   },
   "cell_type": "code",
   "source": [
    "from collections import OrderedDict\n",
    "\n",
    "def count_jobs_at_each_moment():\n",
    "    events = []\n",
    "\n",
    "    for _, row in df_worker_jobs.iterrows():\n",
    "        events.append((row['start_time'], 'start', row['job_name']))\n",
    "        events.append((row['end_time'], 'end', row['job_name']))\n",
    "\n",
    "    # Sort events by time, processing end before start at the same time\n",
    "    events.sort(key=lambda x: (x[0], x[1] == 'start'))\n",
    "\n",
    "    # Counting jobs over time\n",
    "    active_jobs = set() \n",
    "    results = OrderedDict()\n",
    "    for time, t, job_name in events:\n",
    "        if t == 'start':\n",
    "            active_jobs.add(job_name)\n",
    "        else:\n",
    "            active_jobs.remove(job_name)\n",
    "        results[time] = active_jobs.copy()\n",
    "    \n",
    "    return results\n",
    "\n",
    "active_jobs = count_jobs_at_each_moment()\n",
    "list_timestamp = []\n",
    "list_num_contention_jobs = []\n",
    "list_max_rack_usage = []\n",
    "contention_jobs = set()\n",
    "\n",
    "for timestamp, jobs in active_jobs.items():\n",
    "    list_rack_usage = []\n",
    "    for job in jobs:\n",
    "        list_rack_usage.append((job, get_job_tm(job)))\n",
    "    rack_usage = sum([v for _, v in list_rack_usage])\n",
    "\n",
    "    num_contention_jobs = 0\n",
    "    if np.max(contention_rack := rack_usage >= 2) > 0:\n",
    "        for job, r in list_rack_usage:\n",
    "            if np.any(np.bitwise_and(r, contention_rack)):\n",
    "                contention_jobs.add(job)\n",
    "                num_contention_jobs += 1\n",
    "    max_rack_usage = np.max(rack_usage)\n",
    "    list_timestamp.append(timestamp)\n",
    "    list_num_contention_jobs.append(num_contention_jobs)\n",
    "    list_max_rack_usage.append(max_rack_usage)\n",
    "    \n",
    "\n",
    "df_runtime = pd.DataFrame({\n",
    "    \"timestamp\": list_timestamp,\n",
    "    \"num_contention_jobs\": list_num_contention_jobs,\n",
    "    \"max_rack_usage\": list_max_rack_usage\n",
    "})\n",
    "\n",
    "df_runtime\n"
   ],
   "id": "64fd4705030c6030",
   "outputs": [
    {
     "data": {
      "text/plain": [
       "      timestamp  num_contention_jobs  max_rack_usage\n",
       "0      0.032639                    0               1\n",
       "1      0.034028                    0               0\n",
       "2      0.034722                    0               1\n",
       "3      0.044444                    0               0\n",
       "4      0.093056                    0               1\n",
       "...         ...                  ...             ...\n",
       "3783  18.509722                    2               2\n",
       "3784  19.518056                    0               1\n",
       "3785  20.259028                    0               1\n",
       "3786  21.441667                    0               0\n",
       "3787  23.125694                    0               0\n",
       "\n",
       "[3788 rows x 3 columns]"
      ],
      "text/html": [
       "<div>\n",
       "<style scoped>\n",
       "    .dataframe tbody tr th:only-of-type {\n",
       "        vertical-align: middle;\n",
       "    }\n",
       "\n",
       "    .dataframe tbody tr th {\n",
       "        vertical-align: top;\n",
       "    }\n",
       "\n",
       "    .dataframe thead th {\n",
       "        text-align: right;\n",
       "    }\n",
       "</style>\n",
       "<table border=\"1\" class=\"dataframe\">\n",
       "  <thead>\n",
       "    <tr style=\"text-align: right;\">\n",
       "      <th></th>\n",
       "      <th>timestamp</th>\n",
       "      <th>num_contention_jobs</th>\n",
       "      <th>max_rack_usage</th>\n",
       "    </tr>\n",
       "  </thead>\n",
       "  <tbody>\n",
       "    <tr>\n",
       "      <th>0</th>\n",
       "      <td>0.032639</td>\n",
       "      <td>0</td>\n",
       "      <td>1</td>\n",
       "    </tr>\n",
       "    <tr>\n",
       "      <th>1</th>\n",
       "      <td>0.034028</td>\n",
       "      <td>0</td>\n",
       "      <td>0</td>\n",
       "    </tr>\n",
       "    <tr>\n",
       "      <th>2</th>\n",
       "      <td>0.034722</td>\n",
       "      <td>0</td>\n",
       "      <td>1</td>\n",
       "    </tr>\n",
       "    <tr>\n",
       "      <th>3</th>\n",
       "      <td>0.044444</td>\n",
       "      <td>0</td>\n",
       "      <td>0</td>\n",
       "    </tr>\n",
       "    <tr>\n",
       "      <th>4</th>\n",
       "      <td>0.093056</td>\n",
       "      <td>0</td>\n",
       "      <td>1</td>\n",
       "    </tr>\n",
       "    <tr>\n",
       "      <th>...</th>\n",
       "      <td>...</td>\n",
       "      <td>...</td>\n",
       "      <td>...</td>\n",
       "    </tr>\n",
       "    <tr>\n",
       "      <th>3783</th>\n",
       "      <td>18.509722</td>\n",
       "      <td>2</td>\n",
       "      <td>2</td>\n",
       "    </tr>\n",
       "    <tr>\n",
       "      <th>3784</th>\n",
       "      <td>19.518056</td>\n",
       "      <td>0</td>\n",
       "      <td>1</td>\n",
       "    </tr>\n",
       "    <tr>\n",
       "      <th>3785</th>\n",
       "      <td>20.259028</td>\n",
       "      <td>0</td>\n",
       "      <td>1</td>\n",
       "    </tr>\n",
       "    <tr>\n",
       "      <th>3786</th>\n",
       "      <td>21.441667</td>\n",
       "      <td>0</td>\n",
       "      <td>0</td>\n",
       "    </tr>\n",
       "    <tr>\n",
       "      <th>3787</th>\n",
       "      <td>23.125694</td>\n",
       "      <td>0</td>\n",
       "      <td>0</td>\n",
       "    </tr>\n",
       "  </tbody>\n",
       "</table>\n",
       "<p>3788 rows × 3 columns</p>\n",
       "</div>"
      ]
     },
     "execution_count": 46,
     "metadata": {},
     "output_type": "execute_result"
    }
   ],
   "execution_count": 46
  },
  {
   "metadata": {
    "ExecuteTime": {
     "end_time": "2024-08-10T04:16:11.170217Z",
     "start_time": "2024-08-10T04:16:11.046295Z"
    }
   },
   "cell_type": "code",
   "source": [
    "font = {\n",
    "    \"family\": \"Times New Roman\",\n",
    "    'size': 18\n",
    "}\n",
    "\n",
    "matplotlib.rc('font', **font)\n",
    "_, ax = plt.subplots(figsize=(6, 3))\n",
    "ax.plot(df_runtime['timestamp'], df_runtime['max_rack_usage'])\n",
    "ax.set_xlim(0, 15)\n",
    "ax.set_xlabel(\"Time (Day)\")\n",
    "ax.set_ylabel(\"Number\")"
   ],
   "id": "b81cc5a7cfcadf4c",
   "outputs": [
    {
     "data": {
      "text/plain": [
       "Text(0, 0.5, 'Number')"
      ]
     },
     "execution_count": 47,
     "metadata": {},
     "output_type": "execute_result"
    },
    {
     "data": {
      "text/plain": [
       "<Figure size 432x216 with 1 Axes>"
      ],
      "image/png": "[encoded data removed]"
     },
     "metadata": {
      "needs_background": "light"
     },
     "output_type": "display_data"
    }
   ],
   "execution_count": 47
  },
  {
   "metadata": {
    "ExecuteTime": {
     "end_time": "2024-08-10T04:16:11.294935Z",
     "start_time": "2024-08-10T04:16:11.170217Z"
    }
   },
   "cell_type": "code",
   "source": [
    "_, ax = plt.subplots(figsize=(6, 3))\n",
    "ax.plot(df_runtime['timestamp'], df_runtime['num_contention_jobs'])\n",
    "ax.set_xlim(0, 15)\n",
    "ax.set_xlabel(\"Time (Day)\")\n",
    "ax.set_ylabel(\"Number\")"
   ],
   "id": "70dc1a3df2625f9c",
   "outputs": [
    {
     "data": {
      "text/plain": [
       "Text(0, 0.5, 'Number')"
      ]
     },
     "execution_count": 48,
     "metadata": {},
     "output_type": "execute_result"
    },
    {
     "data": {
      "text/plain": [
       "<Figure size 432x216 with 1 Axes>"
      ],
      "image/png": "[encoded data removed]"
     },
     "metadata": {
      "needs_background": "light"
     },
     "output_type": "display_data"
    }
   ],
   "execution_count": 48
  },
  {
   "metadata": {
    "ExecuteTime": {
     "end_time": "2024-08-10T13:39:12.391589Z",
     "start_time": "2024-08-10T13:39:12.271191Z"
    }
   },
   "cell_type": "code",
   "source": [
    "_, ax = plt.subplots(figsize=(4, 1))\n",
    "num_jobs = len(df_worker_jobs)\n",
    "num_contention_jobs = len(contention_jobs)\n",
    "num_free_jobs = num_jobs - num_contention_jobs\n",
    "ax.barh([0], num_free_jobs, label=\"free jobs\")\n",
    "ax.barh([0], num_contention_jobs, left=num_free_jobs, label=\"contention\")\n",
    "\n",
    "ax.set_yticks([0], labels=[\"# of jobs\"])\n",
    "ax.set_title(f\"Contention rate: {num_contention_jobs/num_jobs*100:.2f}%\")\n",
    "\n",
    "# Put a legend to the right of the current axis\n",
    "ax.legend(loc='center left', bbox_to_anchor=(1, 0.5))"
   ],
   "id": "eedd5883997ec9c8",
   "outputs": [
    {
     "data": {
      "text/plain": [
       "<matplotlib.legend.Legend at 0x285636fd420>"
      ]
     },
     "execution_count": 53,
     "metadata": {},
     "output_type": "execute_result"
    },
    {
     "data": {
      "text/plain": [
       "<Figure size 288x72 with 1 Axes>"
      ],
      "image/png": "[encoded data removed]"
     },
     "metadata": {
      "needs_background": "light"
     },
     "output_type": "display_data"
    }
   ],
   "execution_count": 53
  },
  {
   "metadata": {},
   "cell_type": "code",
   "source": "   ",
   "id": "f7329b3f5fbf9af8",
   "outputs": [],
   "execution_count": null
  }
 ],
 "metadata": {
  "kernelspec": {
   "display_name": "Python 3",
   "language": "python",
   "name": "python3"
  },
  "language_info": {
   "codemirror_mode": {
    "name": "ipython",
    "version": 2
   },
   "file_extension": ".py",
   "mimetype": "text/x-python",
   "name": "python",
   "nbconvert_exporter": "python",
   "pygments_lexer": "ipython2",
   "version": "2.7.6"
  }
 },
 "nbformat": 4,
 "nbformat_minor": 5
}
